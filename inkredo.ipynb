{
 "cells": [
  {
   "cell_type": "markdown",
   "metadata": {},
   "source": [
    "## Exploration of IndiaTerror data using python\n"
   ]
  },
  {
   "cell_type": "code",
   "execution_count": 1,
   "metadata": {
    "collapsed": false
   },
   "outputs": [],
   "source": [
    "import pandas as pd\n",
    "import matplotlib.pyplot as plt\n",
    "import numpy as np"
   ]
  },
  {
   "cell_type": "code",
   "execution_count": 2,
   "metadata": {
    "collapsed": false
   },
   "outputs": [],
   "source": [
    "df = pd.read_csv('indiadata.csv')"
   ]
  },
  {
   "cell_type": "markdown",
   "metadata": {},
   "source": [
    "Before exploring we should have clear knowledge what the data is, its size, type etc so that it it will be easier to get into the details.Let me first discover the shape of data and what columns does it have along with its data types."
   ]
  },
  {
   "cell_type": "code",
   "execution_count": 3,
   "metadata": {
    "collapsed": false
   },
   "outputs": [
    {
     "data": {
      "text/plain": [
       "(4972, 14)"
      ]
     },
     "execution_count": 3,
     "metadata": {},
     "output_type": "execute_result"
    }
   ],
   "source": [
    "df.shape"
   ]
  },
  {
   "cell_type": "code",
   "execution_count": 4,
   "metadata": {
    "collapsed": false
   },
   "outputs": [
    {
     "data": {
      "text/plain": [
       "Index([u'Year', u'City', u'Country', u'latitude', u'longitude', u'attack type',\n",
       "       u'Target Type', u'Target Sub Type', u'Target', u'Weapon Type',\n",
       "       u'Weapon sub type', u'Terrorist Organization', u'motive', u'summary'],\n",
       "      dtype='object')"
      ]
     },
     "execution_count": 4,
     "metadata": {},
     "output_type": "execute_result"
    }
   ],
   "source": [
    "df.columns"
   ]
  },
  {
   "cell_type": "code",
   "execution_count": 5,
   "metadata": {
    "collapsed": false,
    "scrolled": true
   },
   "outputs": [
    {
     "data": {
      "text/plain": [
       "Year                        int64\n",
       "City                       object\n",
       "Country                    object\n",
       "latitude                  float64\n",
       "longitude                 float64\n",
       "attack type                object\n",
       "Target Type                object\n",
       "Target Sub Type            object\n",
       "Target                     object\n",
       "Weapon Type                object\n",
       "Weapon sub type            object\n",
       "Terrorist Organization     object\n",
       "motive                     object\n",
       "summary                    object\n",
       "dtype: object"
      ]
     },
     "execution_count": 5,
     "metadata": {},
     "output_type": "execute_result"
    }
   ],
   "source": [
    "df.dtypes"
   ]
  },
  {
   "cell_type": "markdown",
   "metadata": {},
   "source": [
    "As we see we have 4972 rows and 14 columns. As we know before doing any anlysis we should first treat the null values as these\n",
    "cause problems."
   ]
  },
  {
   "cell_type": "code",
   "execution_count": 6,
   "metadata": {
    "collapsed": false
   },
   "outputs": [
    {
     "data": {
      "text/plain": [
       "Year                      0\n",
       "City                      0\n",
       "Country                   0\n",
       "latitude                  0\n",
       "longitude                 0\n",
       "attack type               0\n",
       "Target Type               0\n",
       "Target Sub Type           0\n",
       "Target                    0\n",
       "Weapon Type               0\n",
       "Weapon sub type           0\n",
       "Terrorist Organization    0\n",
       "motive                    0\n",
       "summary                   0\n",
       "dtype: int64"
      ]
     },
     "execution_count": 6,
     "metadata": {},
     "output_type": "execute_result"
    }
   ],
   "source": [
    "df.isnull().sum()"
   ]
  },
  {
   "cell_type": "markdown",
   "metadata": {},
   "source": [
    "Fortunately the dataset does not contain any null values.Lets explore it. I will first check the first 3 rows to get an idea of the dataset."
   ]
  },
  {
   "cell_type": "code",
   "execution_count": 7,
   "metadata": {
    "collapsed": false
   },
   "outputs": [
    {
     "data": {
      "text/html": [
       "<div>\n",
       "<table border=\"1\" class=\"dataframe\">\n",
       "  <thead>\n",
       "    <tr style=\"text-align: right;\">\n",
       "      <th></th>\n",
       "      <th>Year</th>\n",
       "      <th>City</th>\n",
       "      <th>Country</th>\n",
       "      <th>latitude</th>\n",
       "      <th>longitude</th>\n",
       "      <th>attack type</th>\n",
       "      <th>Target Type</th>\n",
       "      <th>Target Sub Type</th>\n",
       "      <th>Target</th>\n",
       "      <th>Weapon Type</th>\n",
       "      <th>Weapon sub type</th>\n",
       "      <th>Terrorist Organization</th>\n",
       "      <th>motive</th>\n",
       "      <th>summary</th>\n",
       "    </tr>\n",
       "  </thead>\n",
       "  <tbody>\n",
       "    <tr>\n",
       "      <th>0</th>\n",
       "      <td>1975</td>\n",
       "      <td>Samastipur</td>\n",
       "      <td>India</td>\n",
       "      <td>25.863042</td>\n",
       "      <td>85.781004</td>\n",
       "      <td>Bombing/Explosion</td>\n",
       "      <td>Government (General)</td>\n",
       "      <td>Government Personnel (excluding police, military)</td>\n",
       "      <td>Lalit Narayan Mishra and a legislator</td>\n",
       "      <td>Explosives/Bombs/Dynamite</td>\n",
       "      <td>Unknown Explosive Type</td>\n",
       "      <td>Ananda Marga</td>\n",
       "      <td>Unknown</td>\n",
       "      <td>1/2/1975: The Indian Railway Minister, Lalit N...</td>\n",
       "    </tr>\n",
       "    <tr>\n",
       "      <th>1</th>\n",
       "      <td>1997</td>\n",
       "      <td>Unknown</td>\n",
       "      <td>India</td>\n",
       "      <td>33.778175</td>\n",
       "      <td>76.576171</td>\n",
       "      <td>Bombing/Explosion</td>\n",
       "      <td>Transportation</td>\n",
       "      <td>Bus Station/Stop</td>\n",
       "      <td>A bus station in Kashmir</td>\n",
       "      <td>Explosives/Bombs/Dynamite</td>\n",
       "      <td>Vehicle</td>\n",
       "      <td>Muslim Rebels</td>\n",
       "      <td>Specific motive is unknown; however, the blast...</td>\n",
       "      <td>3/29/1997: Two explosions occurred at a bus st...</td>\n",
       "    </tr>\n",
       "    <tr>\n",
       "      <th>2</th>\n",
       "      <td>1997</td>\n",
       "      <td>Dhalai district</td>\n",
       "      <td>India</td>\n",
       "      <td>23.846698</td>\n",
       "      <td>91.909924</td>\n",
       "      <td>Bombing/Explosion</td>\n",
       "      <td>Military</td>\n",
       "      <td>Military Unit/Patrol/Convoy</td>\n",
       "      <td>Border Patrol Guards</td>\n",
       "      <td>Explosives/Bombs/Dynamite</td>\n",
       "      <td>Land Mine</td>\n",
       "      <td>National Liberation Front of Tripura (NLFT)</td>\n",
       "      <td>While the motive for this attack is unknown, t...</td>\n",
       "      <td>11/7/1997: A suspected anti-tank land mine exp...</td>\n",
       "    </tr>\n",
       "  </tbody>\n",
       "</table>\n",
       "</div>"
      ],
      "text/plain": [
       "   Year             City Country   latitude  longitude        attack type  \\\n",
       "0  1975       Samastipur   India  25.863042  85.781004  Bombing/Explosion   \n",
       "1  1997          Unknown   India  33.778175  76.576171  Bombing/Explosion   \n",
       "2  1997  Dhalai district   India  23.846698  91.909924  Bombing/Explosion   \n",
       "\n",
       "            Target Type                                    Target Sub Type  \\\n",
       "0  Government (General)  Government Personnel (excluding police, military)   \n",
       "1        Transportation                                   Bus Station/Stop   \n",
       "2              Military                        Military Unit/Patrol/Convoy   \n",
       "\n",
       "                                  Target                Weapon Type  \\\n",
       "0  Lalit Narayan Mishra and a legislator  Explosives/Bombs/Dynamite   \n",
       "1               A bus station in Kashmir  Explosives/Bombs/Dynamite   \n",
       "2                   Border Patrol Guards  Explosives/Bombs/Dynamite   \n",
       "\n",
       "          Weapon sub type                       Terrorist Organization  \\\n",
       "0  Unknown Explosive Type                                 Ananda Marga   \n",
       "1                 Vehicle                                Muslim Rebels   \n",
       "2               Land Mine  National Liberation Front of Tripura (NLFT)   \n",
       "\n",
       "                                              motive  \\\n",
       "0                                            Unknown   \n",
       "1  Specific motive is unknown; however, the blast...   \n",
       "2  While the motive for this attack is unknown, t...   \n",
       "\n",
       "                                             summary  \n",
       "0  1/2/1975: The Indian Railway Minister, Lalit N...  \n",
       "1  3/29/1997: Two explosions occurred at a bus st...  \n",
       "2  11/7/1997: A suspected anti-tank land mine exp...  "
      ]
     },
     "execution_count": 7,
     "metadata": {},
     "output_type": "execute_result"
    }
   ],
   "source": [
    "df.head(3)"
   ]
  },
  {
   "cell_type": "markdown",
   "metadata": {},
   "source": [
    "The date of attack is mentioned in thee summary section. I will extract the date from summary and make another column."
   ]
  },
  {
   "cell_type": "code",
   "execution_count": 8,
   "metadata": {
    "collapsed": false
   },
   "outputs": [],
   "source": [
    "df['date'] = df.summary.str.split(':').str.get(0)\n",
    "df['summary'] = df.summary.str.split(':').str.get(1).str.strip()"
   ]
  },
  {
   "cell_type": "code",
   "execution_count": 9,
   "metadata": {
    "collapsed": false
   },
   "outputs": [
    {
     "data": {
      "text/html": [
       "<div>\n",
       "<table border=\"1\" class=\"dataframe\">\n",
       "  <thead>\n",
       "    <tr style=\"text-align: right;\">\n",
       "      <th></th>\n",
       "      <th>Year</th>\n",
       "      <th>City</th>\n",
       "      <th>Country</th>\n",
       "      <th>latitude</th>\n",
       "      <th>longitude</th>\n",
       "      <th>attack type</th>\n",
       "      <th>Target Type</th>\n",
       "      <th>Target Sub Type</th>\n",
       "      <th>Target</th>\n",
       "      <th>Weapon Type</th>\n",
       "      <th>Weapon sub type</th>\n",
       "      <th>Terrorist Organization</th>\n",
       "      <th>motive</th>\n",
       "      <th>summary</th>\n",
       "      <th>date</th>\n",
       "    </tr>\n",
       "  </thead>\n",
       "  <tbody>\n",
       "    <tr>\n",
       "      <th>0</th>\n",
       "      <td>1975</td>\n",
       "      <td>Samastipur</td>\n",
       "      <td>India</td>\n",
       "      <td>25.863042</td>\n",
       "      <td>85.781004</td>\n",
       "      <td>Bombing/Explosion</td>\n",
       "      <td>Government (General)</td>\n",
       "      <td>Government Personnel (excluding police, military)</td>\n",
       "      <td>Lalit Narayan Mishra and a legislator</td>\n",
       "      <td>Explosives/Bombs/Dynamite</td>\n",
       "      <td>Unknown Explosive Type</td>\n",
       "      <td>Ananda Marga</td>\n",
       "      <td>Unknown</td>\n",
       "      <td>The Indian Railway Minister, Lalit Narayan Mis...</td>\n",
       "      <td>1/2/1975</td>\n",
       "    </tr>\n",
       "    <tr>\n",
       "      <th>1</th>\n",
       "      <td>1997</td>\n",
       "      <td>Unknown</td>\n",
       "      <td>India</td>\n",
       "      <td>33.778175</td>\n",
       "      <td>76.576171</td>\n",
       "      <td>Bombing/Explosion</td>\n",
       "      <td>Transportation</td>\n",
       "      <td>Bus Station/Stop</td>\n",
       "      <td>A bus station in Kashmir</td>\n",
       "      <td>Explosives/Bombs/Dynamite</td>\n",
       "      <td>Vehicle</td>\n",
       "      <td>Muslim Rebels</td>\n",
       "      <td>Specific motive is unknown; however, the blast...</td>\n",
       "      <td>Two explosions occurred at a bus station in th...</td>\n",
       "      <td>3/29/1997</td>\n",
       "    </tr>\n",
       "  </tbody>\n",
       "</table>\n",
       "</div>"
      ],
      "text/plain": [
       "   Year        City Country   latitude  longitude        attack type  \\\n",
       "0  1975  Samastipur   India  25.863042  85.781004  Bombing/Explosion   \n",
       "1  1997     Unknown   India  33.778175  76.576171  Bombing/Explosion   \n",
       "\n",
       "            Target Type                                    Target Sub Type  \\\n",
       "0  Government (General)  Government Personnel (excluding police, military)   \n",
       "1        Transportation                                   Bus Station/Stop   \n",
       "\n",
       "                                  Target                Weapon Type  \\\n",
       "0  Lalit Narayan Mishra and a legislator  Explosives/Bombs/Dynamite   \n",
       "1               A bus station in Kashmir  Explosives/Bombs/Dynamite   \n",
       "\n",
       "          Weapon sub type Terrorist Organization  \\\n",
       "0  Unknown Explosive Type           Ananda Marga   \n",
       "1                 Vehicle          Muslim Rebels   \n",
       "\n",
       "                                              motive  \\\n",
       "0                                            Unknown   \n",
       "1  Specific motive is unknown; however, the blast...   \n",
       "\n",
       "                                             summary       date  \n",
       "0  The Indian Railway Minister, Lalit Narayan Mis...   1/2/1975  \n",
       "1  Two explosions occurred at a bus station in th...  3/29/1997  "
      ]
     },
     "execution_count": 9,
     "metadata": {},
     "output_type": "execute_result"
    }
   ],
   "source": [
    "df.head(2)"
   ]
  },
  {
   "cell_type": "markdown",
   "metadata": {},
   "source": [
    "### What are the attacks types and the weapons used?\n",
    "Lets first check what type of attcks have been conducted and what are the weapons that are used in these attacks."
   ]
  },
  {
   "cell_type": "code",
   "execution_count": 10,
   "metadata": {
    "collapsed": false
   },
   "outputs": [
    {
     "data": {
      "text/plain": [
       "Bombing/Explosion                      2041\n",
       "Armed Assault                          1516\n",
       "Hostage Taking (Kidnapping)             593\n",
       "Facility/Infrastructure Attack          439\n",
       "Assassination                           201\n",
       "Unknown                                 127\n",
       "Unarmed Assault                          33\n",
       "Hijacking                                13\n",
       "Hostage Taking (Barricade Incident)       9\n",
       "Name: attack type, dtype: int64"
      ]
     },
     "execution_count": 10,
     "metadata": {},
     "output_type": "execute_result"
    }
   ],
   "source": [
    "df['attack type'].value_counts()"
   ]
  },
  {
   "cell_type": "code",
   "execution_count": 11,
   "metadata": {
    "collapsed": false
   },
   "outputs": [
    {
     "data": {
      "text/plain": [
       "Explosives/Bombs/Dynamite                                                      2127\n",
       "Firearms                                                                       1815\n",
       "Incendiary                                                                      382\n",
       "Unknown                                                                         374\n",
       "Melee                                                                           243\n",
       "Sabotage Equipment                                                               20\n",
       "Chemical                                                                          7\n",
       "Vehicle (not to include vehicle-borne explosives, i.e., car or truck bombs)       4\n",
       "Name: Weapon Type, dtype: int64"
      ]
     },
     "execution_count": 11,
     "metadata": {},
     "output_type": "execute_result"
    }
   ],
   "source": [
    "df['Weapon Type'].value_counts()"
   ]
  },
  {
   "cell_type": "markdown",
   "metadata": {},
   "source": [
    "As we see the attacks are done by using some common weapons.The most used weapon is Explosives/Bombs/Dynamite which is used 2127 times after which Firearms are most used weapons.Then kidnapping comes into picture.Though chemicals and vehicles were used but not many a times.Many attacks and weapons are reported unknown also.Now lets dig into it i.e lets explore the actuals weapons used in the attacks."
   ]
  },
  {
   "cell_type": "code",
   "execution_count": 12,
   "metadata": {
    "collapsed": false
   },
   "outputs": [
    {
     "data": {
      "text/plain": [
       "Weapon Type                                                                  Weapon sub type                          \n",
       "Chemical                                                                     .                                               4\n",
       "                                                                             Poisoning                                       3\n",
       "Explosives/Bombs/Dynamite                                                    Unknown Explosive Type                        674\n",
       "                                                                             Grenade                                       536\n",
       "                                                                             Other Explosive Type                          316\n",
       "                                                                             Land Mine                                     266\n",
       "                                                                             Remote Trigger                                 81\n",
       "                                                                             Vehicle                                        75\n",
       "                                                                             Time Fuse                                      61\n",
       "                                                                             Dynamite/TNT                                   53\n",
       "                                                                             Projectile (rockets, mortars, RPGs, etc.)      43\n",
       "                                                                             Suicide (carried bodily by human being)        11\n",
       "                                                                             Pressure Trigger                                7\n",
       "                                                                             Letter Bomb                                     2\n",
       "                                                                             Sticky Bomb                                     2\n",
       "Firearms                                                                     Unknown Gun Type                             1566\n",
       "                                                                             Automatic Weapon                              180\n",
       "                                                                             Handgun                                        44\n",
       "                                                                             Other Gun Type                                 12\n",
       "                                                                             Rifle/Shotgun (non-automatic)                  11\n",
       "                                                                             .                                               2\n",
       "Incendiary                                                                   Arson/Fire                                    329\n",
       "                                                                             Gasoline or Alcohol                            46\n",
       "                                                                             Molotov Cocktail/Petrol Bomb                    6\n",
       "                                                                             .                                               1\n",
       "Melee                                                                        Knife or Other Sharp Object                   181\n",
       "                                                                             Hands, Feet, Fists                             30\n",
       "                                                                             Blunt Object                                   25\n",
       "                                                                             Unknown Weapon Type                             3\n",
       "                                                                             Rope or Other Strangling Device                 2\n",
       "                                                                             .                                               1\n",
       "                                                                             Suffocation                                     1\n",
       "Sabotage Equipment                                                           .                                              20\n",
       "Unknown                                                                      .                                             374\n",
       "Vehicle (not to include vehicle-borne explosives, i.e., car or truck bombs)  .                                               4\n",
       "Name: Weapon sub type, dtype: int64"
      ]
     },
     "execution_count": 12,
     "metadata": {},
     "output_type": "execute_result"
    }
   ],
   "source": [
    "df.groupby('Weapon Type')['Weapon sub type'].value_counts()"
   ]
  },
  {
   "cell_type": "markdown",
   "metadata": {},
   "source": [
    "### Who the targets were?"
   ]
  },
  {
   "cell_type": "code",
   "execution_count": 13,
   "metadata": {
    "collapsed": false
   },
   "outputs": [
    {
     "data": {
      "text/plain": [
       "Private Citizens & Property       1538\n",
       "Government (General)               878\n",
       "Police                             787\n",
       "Business                           423\n",
       "Transportation                     369\n",
       "Military                           313\n",
       "Educational Institution            130\n",
       "Terrorists/Non-State Militia       103\n",
       "Telecommunication                   89\n",
       "Violent Political Party             86\n",
       "Unknown                             83\n",
       "Religious Figures/Institutions      66\n",
       "Utilities                           47\n",
       "Journalists & Media                 25\n",
       "Tourists                            12\n",
       "NGO                                  9\n",
       "Other                                6\n",
       "Airports & Aircraft                  3\n",
       "Food or Water Supply                 3\n",
       "Maritime                             1\n",
       "Government (Diplomatic)              1\n",
       "Name: Target Type, dtype: int64"
      ]
     },
     "execution_count": 13,
     "metadata": {},
     "output_type": "execute_result"
    }
   ],
   "source": [
    "df['Target Type'].value_counts()"
   ]
  },
  {
   "cell_type": "code",
   "execution_count": null,
   "metadata": {
    "collapsed": true
   },
   "outputs": [],
   "source": [
    "We can see private properties are the most attacked targets.Then comes Government which is a commo news and ofcourse the police\n",
    "military are the next targets.then come the telecommunication, education institution and religious institutions.There are also\n",
    "some targets like NGO,airports etc but they dont have significant numbers. Now lets get into deeper to see who the actual\n",
    "victims are."
   ]
  },
  {
   "cell_type": "code",
   "execution_count": 14,
   "metadata": {
    "collapsed": false
   },
   "outputs": [
    {
     "data": {
      "text/plain": [
       "Target Type                     Target Sub Type                                     \n",
       "Airports & Aircraft             Aircraft (not at an airport)                              2\n",
       "                                Airport                                                   1\n",
       "Business                        Construction                                            142\n",
       "                                .                                                        73\n",
       "                                Retail/Grocery/Bakery                                    51\n",
       "                                Mining                                                   27\n",
       "                                Gas/Oil                                                  23\n",
       "                                Medical/Pharmaceutical                                   22\n",
       "                                Industrial/Textiles/Factory                              19\n",
       "                                Farm/Ranch                                               18\n",
       "                                Entertainment/Cultural/Stadium/Casino                    12\n",
       "                                Hotel/Resort                                             11\n",
       "                                Bank/Commerce                                            10\n",
       "                                Multinational Corporation                                 9\n",
       "                                Restaurant/Bar/Caf�                                       6\n",
       "Educational Institution         School/University/Educational Building                   88\n",
       "                                Teacher/Professor/Instructor                             26\n",
       "                                Other Personnel                                          16\n",
       "Food or Water Supply            Water Supply                                              2\n",
       "                                Food Supply                                               1\n",
       "Government (Diplomatic)         Embassy/Consulate                                         1\n",
       "Government (General)            Politician or Political Party Movement/Meeting/Rally    316\n",
       "                                Government Personnel (excluding police, military)       297\n",
       "                                Government Building/Facility/Office                     143\n",
       "                                Election-related                                        101\n",
       "                                Judge/Attorney/Court                                     12\n",
       "                                Intelligence                                              7\n",
       "                                .                                                         1\n",
       "                                Head of State                                             1\n",
       "Journalists & Media             Newspaper Journalist/Staff/Facility                      21\n",
       "                                                                                       ... \n",
       "Private Citizens & Property     Museum/Cultural Center/Cultural House                     1\n",
       "Religious Figures/Institutions  Place of Worship                                         35\n",
       "                                Religious Figure                                         19\n",
       "                                Affiliated Institution                                    8\n",
       "                                .                                                         4\n",
       "Telecommunication               Telephone/Telegraph                                      67\n",
       "                                .                                                        14\n",
       "                                Multiple Telecommunication Targets                        6\n",
       "                                Television                                                2\n",
       "Terrorists/Non-State Militia    Terrorist                                                76\n",
       "                                Non-State Militia                                        17\n",
       "                                .                                                        10\n",
       "Tourists                        Tourist                                                   8\n",
       "                                Tour Bus/Van                                              4\n",
       "Transportation                  Train/Train Tracks/Trolley                              206\n",
       "                                Bus (excluding tourists)                                 74\n",
       "                                Bridge/Car Tunnel                                        43\n",
       "                                Bus Station/Stop                                         29\n",
       "                                Highway/Road/Toll/Traffic Signal                         11\n",
       "                                .                                                         2\n",
       "                                Subway                                                    2\n",
       "                                Taxi/Rickshaw                                             2\n",
       "Unknown                         .                                                        83\n",
       "Utilities                       Electricity                                              20\n",
       "                                Oil                                                      14\n",
       "                                Gas                                                       7\n",
       "                                .                                                         6\n",
       "Violent Political Party         Party Official/Candidate/Other Personnel                 73\n",
       "                                Rally                                                     7\n",
       "                                Party Office/Facility                                     6\n",
       "Name: Target Sub Type, dtype: int64"
      ]
     },
     "execution_count": 14,
     "metadata": {},
     "output_type": "execute_result"
    }
   ],
   "source": [
    "df.groupby('Target Type')['Target Sub Type'].value_counts()"
   ]
  },
  {
   "cell_type": "code",
   "execution_count": null,
   "metadata": {
    "collapsed": true
   },
   "outputs": [],
   "source": [
    "The airports seem most secured place as there are hardly any attacks happened.We can see most of the attacks are to the \n",
    "government personnel,buildings,political party meetings etc which states they are at the top of the hater list.Though \n",
    "many attacks also done to the education institutes but all the attacks are intended to either to buldings or instructors,\n",
    "but not to the students.In transportation trains are the common victims and so the constructions in Business.\n"
   ]
  },
  {
   "cell_type": "markdown",
   "metadata": {},
   "source": [
    "### Who is conducting the attacks?"
   ]
  },
  {
   "cell_type": "code",
   "execution_count": 15,
   "metadata": {
    "collapsed": false
   },
   "outputs": [
    {
     "data": {
      "text/plain": [
       "Communist Party of India - Maoist (CPI-Maoist)                  1547\n",
       "Unknown                                                         1415\n",
       "Maoists                                                          385\n",
       "United Liberation Front of Assam (ULFA)                          238\n",
       "National Democratic Front of Bodoland (NDFB)                     106\n",
       "Lashkar-e-Taiba (LeT)                                            100\n",
       "Other                                                             92\n",
       "Hizbul Mujahideen (HM)                                            88\n",
       "Garo National Liberation Army                                     82\n",
       "People's War Group (PWG)                                          62\n",
       "National Liberation Front of Tripura (NLFT)                       62\n",
       "National Socialist Council of Nagaland-Isak-Muivah (NSCN-IM)      50\n",
       "Indian Mujahideen                                                 34\n",
       "Naxalites                                                         34\n",
       "People's Liberation Army (India)                                  33\n",
       "Kangleipak Communist Party (KCP)                                  30\n",
       "Militants                                                         29\n",
       "Maoist Communist Center (MCC)                                     24\n",
       "People's Liberation Front of India                                24\n",
       "Dima Halao Daoga (DHD)                                            24\n",
       "People's Committee against Police Atrocities (PCPA)               22\n",
       "National Socialist Council of Nagaland-Khaplang (NSCN-K)          21\n",
       "Jaish-e-Mohammad (JeM)                                            18\n",
       "Al-Mansoorian                                                     16\n",
       "Karbi Longri North Cachar Liberation Front (KLNLF)                15\n",
       "People's Revolutionary Party of Kangleipak (PREPAK)               14\n",
       "United National Liberation Front (UNLF)                           13\n",
       "Coordination Committee (CORCOM)                                   12\n",
       "Al-Ummah                                                          12\n",
       "Students Islamic Movement of India (SIMI)                         12\n",
       "Muslim Militants                                                  12\n",
       "Black Widows                                                      11\n",
       "Harkatul Jihad-e-Islami                                           10\n",
       "Karbi People's Liberation Tigers (KPLT)                           10\n",
       "Tritiya Prastuti Committee (India)                                 9\n",
       "Kanglei Yawol Kanna Lup (KYKL)                                     9\n",
       "Bodo Liberation Tigers (BLT)                                       8\n",
       "Jamiat ul-Mujahedin (JuM)                                          8\n",
       "Gunmen                                                             8\n",
       "Deccan Mujahideen                                                  8\n",
       "Communist Party of India- Marxist-Leninist                         8\n",
       "United People's Democratic Solidarity (UPDS)                       7\n",
       "All Tripura Tiger Force (ATTF)                                     7\n",
       "People's United Liberation Front (PULF)                            6\n",
       "Achik National Volunteer Council-B (ANVC-B)                        5\n",
       "Jharkhand Liberation Tigers (JLT)                                  5\n",
       "Adivasi National Liberation Army (ANLA)                            5\n",
       "Vishwa Hindu Parishad (VHP)                                        5\n",
       "Kuki National Front (KNF)                                          5\n",
       "Lashkar-e-Islam (India)                                            5\n",
       "Name: Terrorist Organization, dtype: int64"
      ]
     },
     "execution_count": 15,
     "metadata": {},
     "output_type": "execute_result"
    }
   ],
   "source": [
    "df['Terrorist Organization'].value_counts().head(50)"
   ]
  },
  {
   "cell_type": "markdown",
   "metadata": {},
   "source": [
    "As we see the most attacks had been conducted by the Maoists including CPI maoists after which ULFA, NDFB, LET and HM seem involved most actively in terrosism.Some small anti govt organisations like SIMI,NLFT,NSCM etc have also done significant attacks. "
   ]
  },
  {
   "cell_type": "markdown",
   "metadata": {},
   "source": [
    "### What are the most common cities where attacks are conducted?"
   ]
  },
  {
   "cell_type": "code",
   "execution_count": 16,
   "metadata": {
    "collapsed": false
   },
   "outputs": [
    {
     "data": {
      "text/plain": [
       "Imphal                     230\n",
       "Srinagar                   222\n",
       "Unknown                    137\n",
       "Guwahati                    61\n",
       "Sopore                      40\n",
       "New Delhi                   38\n",
       "Latehar district            37\n",
       "West Midnapore district     36\n",
       "Malkangiri district         34\n",
       "Anantnag                    32\n",
       "Name: City, dtype: int64"
      ]
     },
     "execution_count": 16,
     "metadata": {},
     "output_type": "execute_result"
    }
   ],
   "source": [
    "df.City.value_counts().head(10)"
   ]
  },
  {
   "cell_type": "markdown",
   "metadata": {},
   "source": [
    "We can see most of the attacks are happening in the nort zone where the terrorist organisations stay most actively.In the west there are also some areas like Malkanangiri in Odisha where Maoists are hide most actively."
   ]
  },
  {
   "cell_type": "markdown",
   "metadata": {},
   "source": [
    "### But what do they want ?"
   ]
  },
  {
   "cell_type": "code",
   "execution_count": 17,
   "metadata": {
    "collapsed": false
   },
   "outputs": [
    {
     "data": {
      "text/plain": [
       "The specific motive for the attack is unknown.                                                                                                                                                                             1641\n",
       "Unknown                                                                                                                                                                                                                    1226\n",
       "The attack was carried out because the victim was accused of being a police informer.                                                                                                                                        49\n",
       "The specific motive for the attack is unknown                                                                                                                                                                                27\n",
       "The attack was carried out because the victims were accused of being police informers.                                                                                                                                       24\n",
       "The specific motive for the attack is unknown or was not reported.                                                                                                                                                           22\n",
       "Maoists left behind pamphlets listing eight demands of the government, including a raise in the price of kendu leaves and higher compensation for leaf harvesters.                                                           13\n",
       "The specific motive for the attack is unknown..                                                                                                                                                                              13\n",
       "The intent was to disrupt election process by intimidating voters.                                                                                                                                                           11\n",
       "Imtiaz Ansari, an arrested suspect and member of Indian Muhajedeen, claimed responsibility for the incident and stated that the goal was to create a stampede in retaliation for the Muzaffarnagar riot in August 2013.      10\n",
       "Name: motive, dtype: int64"
      ]
     },
     "execution_count": 17,
     "metadata": {},
     "output_type": "execute_result"
    }
   ],
   "source": [
    "df.motive.value_counts().head(10)"
   ]
  },
  {
   "cell_type": "markdown",
   "metadata": {},
   "source": [
    "As I explored the top 10 motives a lot of attacks are unknown and a common reason was \"The attack was carried out because the victim was accused of being a police informer.\"and the others are related to politics."
   ]
  }
 ],
 "metadata": {
  "anaconda-cloud": {},
  "kernelspec": {
   "display_name": "Python [conda env:py2]",
   "language": "python",
   "name": "conda-env-py2-py"
  },
  "language_info": {
   "codemirror_mode": {
    "name": "ipython",
    "version": 2
   },
   "file_extension": ".py",
   "mimetype": "text/x-python",
   "name": "python",
   "nbconvert_exporter": "python",
   "pygments_lexer": "ipython2",
   "version": "2.7.12"
  }
 },
 "nbformat": 4,
 "nbformat_minor": 2
}
